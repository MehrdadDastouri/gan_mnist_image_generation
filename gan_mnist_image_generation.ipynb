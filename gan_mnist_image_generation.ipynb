{
  "nbformat": 4,
  "nbformat_minor": 0,
  "metadata": {
    "colab": {
      "provenance": [],
      "authorship_tag": "ABX9TyPcMmvLBOkqTERpc2gzkcO9",
      "include_colab_link": true
    },
    "kernelspec": {
      "name": "python3",
      "display_name": "Python 3"
    },
    "language_info": {
      "name": "python"
    }
  },
  "cells": [
    {
      "cell_type": "markdown",
      "metadata": {
        "id": "view-in-github",
        "colab_type": "text"
      },
      "source": [
        "<a href=\"https://colab.research.google.com/github/MehrdadDastouri/gan_mnist_image_generation/blob/main/gan_mnist_image_generation.ipynb\" target=\"_parent\"><img src=\"https://colab.research.google.com/assets/colab-badge.svg\" alt=\"Open In Colab\"/></a>"
      ]
    },
    {
      "cell_type": "code",
      "execution_count": null,
      "metadata": {
        "colab": {
          "base_uri": "https://localhost:8080/"
        },
        "id": "6F0QNaAIywiw",
        "outputId": "2833a22d-e3c9-4ade-cdaf-3c889279d258"
      },
      "outputs": [
        {
          "output_type": "stream",
          "name": "stdout",
          "text": [
            "Downloading http://yann.lecun.com/exdb/mnist/train-images-idx3-ubyte.gz\n",
            "Failed to download (trying next):\n",
            "HTTP Error 403: Forbidden\n",
            "\n",
            "Downloading https://ossci-datasets.s3.amazonaws.com/mnist/train-images-idx3-ubyte.gz\n",
            "Downloading https://ossci-datasets.s3.amazonaws.com/mnist/train-images-idx3-ubyte.gz to ./data/MNIST/raw/train-images-idx3-ubyte.gz\n"
          ]
        },
        {
          "output_type": "stream",
          "name": "stderr",
          "text": [
            "100%|██████████| 9.91M/9.91M [00:00<00:00, 37.5MB/s]\n"
          ]
        },
        {
          "output_type": "stream",
          "name": "stdout",
          "text": [
            "Extracting ./data/MNIST/raw/train-images-idx3-ubyte.gz to ./data/MNIST/raw\n",
            "\n",
            "Downloading http://yann.lecun.com/exdb/mnist/train-labels-idx1-ubyte.gz\n",
            "Failed to download (trying next):\n",
            "HTTP Error 403: Forbidden\n",
            "\n",
            "Downloading https://ossci-datasets.s3.amazonaws.com/mnist/train-labels-idx1-ubyte.gz\n",
            "Downloading https://ossci-datasets.s3.amazonaws.com/mnist/train-labels-idx1-ubyte.gz to ./data/MNIST/raw/train-labels-idx1-ubyte.gz\n"
          ]
        },
        {
          "output_type": "stream",
          "name": "stderr",
          "text": [
            "100%|██████████| 28.9k/28.9k [00:00<00:00, 1.21MB/s]\n"
          ]
        },
        {
          "output_type": "stream",
          "name": "stdout",
          "text": [
            "Extracting ./data/MNIST/raw/train-labels-idx1-ubyte.gz to ./data/MNIST/raw\n",
            "\n",
            "Downloading http://yann.lecun.com/exdb/mnist/t10k-images-idx3-ubyte.gz\n",
            "Failed to download (trying next):\n",
            "HTTP Error 403: Forbidden\n",
            "\n",
            "Downloading https://ossci-datasets.s3.amazonaws.com/mnist/t10k-images-idx3-ubyte.gz\n",
            "Downloading https://ossci-datasets.s3.amazonaws.com/mnist/t10k-images-idx3-ubyte.gz to ./data/MNIST/raw/t10k-images-idx3-ubyte.gz\n"
          ]
        },
        {
          "output_type": "stream",
          "name": "stderr",
          "text": [
            "100%|██████████| 1.65M/1.65M [00:00<00:00, 10.3MB/s]\n"
          ]
        },
        {
          "output_type": "stream",
          "name": "stdout",
          "text": [
            "Extracting ./data/MNIST/raw/t10k-images-idx3-ubyte.gz to ./data/MNIST/raw\n",
            "\n",
            "Downloading http://yann.lecun.com/exdb/mnist/t10k-labels-idx1-ubyte.gz\n",
            "Failed to download (trying next):\n",
            "HTTP Error 403: Forbidden\n",
            "\n",
            "Downloading https://ossci-datasets.s3.amazonaws.com/mnist/t10k-labels-idx1-ubyte.gz\n",
            "Downloading https://ossci-datasets.s3.amazonaws.com/mnist/t10k-labels-idx1-ubyte.gz to ./data/MNIST/raw/t10k-labels-idx1-ubyte.gz\n"
          ]
        },
        {
          "output_type": "stream",
          "name": "stderr",
          "text": [
            "100%|██████████| 4.54k/4.54k [00:00<00:00, 3.40MB/s]\n"
          ]
        },
        {
          "output_type": "stream",
          "name": "stdout",
          "text": [
            "Extracting ./data/MNIST/raw/t10k-labels-idx1-ubyte.gz to ./data/MNIST/raw\n",
            "\n",
            "Epoch [1/50] Batch 0/469 | D Loss: 0.6910 | G Loss: 0.7103\n",
            "Epoch [1/50] Batch 100/469 | D Loss: 0.4568 | G Loss: 0.8245\n",
            "Epoch [1/50] Batch 200/469 | D Loss: 0.5567 | G Loss: 0.5913\n",
            "Epoch [1/50] Batch 300/469 | D Loss: 0.5791 | G Loss: 1.0003\n",
            "Epoch [1/50] Batch 400/469 | D Loss: 0.4403 | G Loss: 1.2282\n",
            "Epoch [2/50] Batch 0/469 | D Loss: 0.4118 | G Loss: 1.0445\n",
            "Epoch [2/50] Batch 100/469 | D Loss: 0.5474 | G Loss: 1.9859\n",
            "Epoch [2/50] Batch 200/469 | D Loss: 0.3336 | G Loss: 2.0303\n",
            "Epoch [2/50] Batch 300/469 | D Loss: 0.2386 | G Loss: 1.3432\n",
            "Epoch [2/50] Batch 400/469 | D Loss: 0.3416 | G Loss: 1.0483\n",
            "Epoch [3/50] Batch 0/469 | D Loss: 0.3885 | G Loss: 0.9699\n",
            "Epoch [3/50] Batch 100/469 | D Loss: 0.4576 | G Loss: 0.7316\n",
            "Epoch [3/50] Batch 200/469 | D Loss: 0.4284 | G Loss: 2.0507\n",
            "Epoch [3/50] Batch 300/469 | D Loss: 0.4138 | G Loss: 0.8305\n",
            "Epoch [3/50] Batch 400/469 | D Loss: 0.3769 | G Loss: 1.1491\n",
            "Epoch [4/50] Batch 0/469 | D Loss: 0.3620 | G Loss: 1.3099\n",
            "Epoch [4/50] Batch 100/469 | D Loss: 0.3916 | G Loss: 0.9573\n",
            "Epoch [4/50] Batch 200/469 | D Loss: 0.3776 | G Loss: 0.8717\n",
            "Epoch [4/50] Batch 300/469 | D Loss: 0.4576 | G Loss: 2.8108\n",
            "Epoch [4/50] Batch 400/469 | D Loss: 0.3856 | G Loss: 1.5725\n",
            "Epoch [5/50] Batch 0/469 | D Loss: 0.4804 | G Loss: 2.3351\n",
            "Epoch [5/50] Batch 100/469 | D Loss: 0.4025 | G Loss: 1.3299\n",
            "Epoch [5/50] Batch 200/469 | D Loss: 0.3479 | G Loss: 1.2307\n",
            "Epoch [5/50] Batch 300/469 | D Loss: 0.2881 | G Loss: 1.5284\n",
            "Epoch [5/50] Batch 400/469 | D Loss: 0.4411 | G Loss: 0.9435\n",
            "Epoch [6/50] Batch 0/469 | D Loss: 0.2986 | G Loss: 1.2384\n",
            "Epoch [6/50] Batch 100/469 | D Loss: 0.4578 | G Loss: 0.7590\n",
            "Epoch [6/50] Batch 200/469 | D Loss: 0.4186 | G Loss: 1.1590\n",
            "Epoch [6/50] Batch 300/469 | D Loss: 0.4121 | G Loss: 1.2061\n",
            "Epoch [6/50] Batch 400/469 | D Loss: 0.4907 | G Loss: 0.7313\n",
            "Epoch [7/50] Batch 0/469 | D Loss: 0.5875 | G Loss: 0.5260\n"
          ]
        }
      ],
      "source": [
        "# Import necessary libraries\n",
        "import torch\n",
        "import torch.nn as nn\n",
        "import torch.optim as optim\n",
        "from torchvision import datasets, transforms\n",
        "from torchvision.utils import save_image, make_grid\n",
        "from torch.utils.data import DataLoader\n",
        "import os\n",
        "import matplotlib.pyplot as plt\n",
        "\n",
        "# Device configuration\n",
        "device = torch.device(\"cuda\" if torch.cuda.is_available() else \"cpu\")\n",
        "\n",
        "# Create directory to save generated images\n",
        "os.makedirs(\"gan_images\", exist_ok=True)\n",
        "\n",
        "# Hyperparameters\n",
        "latent_dim = 100  # Dimension of the noise vector\n",
        "image_size = 28  # Image size for MNIST\n",
        "channels = 1  # Grayscale\n",
        "batch_size = 128\n",
        "epochs = 50\n",
        "lr = 0.0002  # Learning rate\n",
        "beta1 = 0.5  # Beta1 for Adam optimizer\n",
        "\n",
        "# Define the Generator\n",
        "class Generator(nn.Module):\n",
        "    def __init__(self, latent_dim, img_shape):\n",
        "        super(Generator, self).__init__()\n",
        "        self.img_shape = img_shape\n",
        "        self.model = nn.Sequential(\n",
        "            nn.Linear(latent_dim, 128),\n",
        "            nn.ReLU(inplace=True),\n",
        "            nn.Linear(128, 256),\n",
        "            nn.BatchNorm1d(256),\n",
        "            nn.ReLU(inplace=True),\n",
        "            nn.Linear(256, 512),\n",
        "            nn.BatchNorm1d(512),\n",
        "            nn.ReLU(inplace=True),\n",
        "            nn.Linear(512, int(torch.prod(torch.tensor(img_shape)))),\n",
        "            nn.Tanh(),  # Output values between -1 and 1\n",
        "        )\n",
        "\n",
        "    def forward(self, z):\n",
        "        img = self.model(z)\n",
        "        img = img.view(img.size(0), *self.img_shape)\n",
        "        return img\n",
        "\n",
        "# Define the Discriminator\n",
        "class Discriminator(nn.Module):\n",
        "    def __init__(self, img_shape):\n",
        "        super(Discriminator, self).__init__()\n",
        "        self.model = nn.Sequential(\n",
        "            nn.Linear(int(torch.prod(torch.tensor(img_shape))), 512),\n",
        "            nn.LeakyReLU(0.2, inplace=True),\n",
        "            nn.Linear(512, 256),\n",
        "            nn.LeakyReLU(0.2, inplace=True),\n",
        "            nn.Linear(256, 1),\n",
        "            nn.Sigmoid(),  # Output a probability\n",
        "        )\n",
        "\n",
        "    def forward(self, img):\n",
        "        img_flat = img.view(img.size(0), -1)\n",
        "        validity = self.model(img_flat)\n",
        "        return validity\n",
        "\n",
        "# Initialize the Generator and Discriminator\n",
        "img_shape = (channels, image_size, image_size)\n",
        "generator = Generator(latent_dim, img_shape).to(device)\n",
        "discriminator = Discriminator(img_shape).to(device)\n",
        "\n",
        "# Loss function\n",
        "adversarial_loss = nn.BCELoss()\n",
        "\n",
        "# Optimizers\n",
        "optimizer_G = optim.Adam(generator.parameters(), lr=lr, betas=(beta1, 0.999))\n",
        "optimizer_D = optim.Adam(discriminator.parameters(), lr=lr, betas=(beta1, 0.999))\n",
        "\n",
        "# Data loader for MNIST\n",
        "transform = transforms.Compose([\n",
        "    transforms.ToTensor(),\n",
        "    transforms.Normalize((0.5,), (0.5,)),  # Normalize to [-1, 1]\n",
        "])\n",
        "dataset = datasets.MNIST(root=\"./data\", train=True, transform=transform, download=True)\n",
        "dataloader = DataLoader(dataset, batch_size=batch_size, shuffle=True)\n",
        "\n",
        "# Training loop\n",
        "for epoch in range(epochs):\n",
        "    for i, (imgs, _) in enumerate(dataloader):\n",
        "        # Ground truths\n",
        "        real = torch.ones((imgs.size(0), 1), device=device)\n",
        "        fake = torch.zeros((imgs.size(0), 1), device=device)\n",
        "\n",
        "        # Train Generator\n",
        "        optimizer_G.zero_grad()\n",
        "        z = torch.randn((imgs.size(0), latent_dim), device=device)  # Noise vector\n",
        "        generated_imgs = generator(z)\n",
        "        g_loss = adversarial_loss(discriminator(generated_imgs), real)  # Fool the discriminator\n",
        "        g_loss.backward()\n",
        "        optimizer_G.step()\n",
        "\n",
        "        # Train Discriminator\n",
        "        optimizer_D.zero_grad()\n",
        "        real_loss = adversarial_loss(discriminator(imgs.to(device)), real)\n",
        "        fake_loss = adversarial_loss(discriminator(generated_imgs.detach()), fake)\n",
        "        d_loss = (real_loss + fake_loss) / 2\n",
        "        d_loss.backward()\n",
        "        optimizer_D.step()\n",
        "\n",
        "        # Print progress\n",
        "        if i % 100 == 0:\n",
        "            print(f\"Epoch [{epoch+1}/{epochs}] Batch {i}/{len(dataloader)} | D Loss: {d_loss.item():.4f} | G Loss: {g_loss.item():.4f}\")\n",
        "\n",
        "    # Save generated images every epoch\n",
        "    generator.eval()\n",
        "    with torch.no_grad():\n",
        "        z = torch.randn(64, latent_dim, device=device)\n",
        "        generated_imgs = generator(z)\n",
        "        grid = make_grid((generated_imgs + 1) / 2, nrow=8, normalize=False)  # Denormalize to [0, 1]\n",
        "        save_image(grid, f\"gan_images/epoch_{epoch+1}.png\")\n",
        "    generator.train()\n",
        "\n",
        "# Visualize the final generated images\n",
        "final_image = plt.imread(f\"gan_images/epoch_{epochs}.png\")\n",
        "plt.figure(figsize=(8, 8))\n",
        "plt.imshow(final_image)\n",
        "plt.axis(\"off\")\n",
        "plt.title(\"Final Generated Images\")\n",
        "plt.show()"
      ]
    }
  ]
}